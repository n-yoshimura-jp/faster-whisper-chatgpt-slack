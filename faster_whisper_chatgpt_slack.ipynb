{
 "cells": [
  {
   "cell_type": "markdown",
   "id": "1bdab9a0-bc19-43f0-bd96-6089788f83b9",
   "metadata": {},
   "source": [
    "# MP4をMP3に変換・文字起こしを行い、ChatGPT APIで英語から日本語に翻訳し、Slackに翻訳したファイルをアップロードする"
   ]
  },
  {
   "cell_type": "markdown",
   "id": "e4b52645-6a88-4f43-ba5a-a0b6807f16a1",
   "metadata": {},
   "source": [
    "動画(MP4)を音声(MP3)に変換"
   ]
  },
  {
   "cell_type": "code",
   "execution_count": null,
   "id": "97ebd0a9-6576-4a93-81f9-0af4e090659d",
   "metadata": {},
   "outputs": [],
   "source": [
    "# ライブラリをインポート\n",
    "import os\n",
    "import subprocess"
   ]
  },
  {
   "cell_type": "code",
   "execution_count": null,
   "id": "f5ca609e-ff7f-4d6e-86bc-6f77b293a099",
   "metadata": {},
   "outputs": [],
   "source": [
    "# 動画(MP4)を音声(MP3)に変換する関数\n",
    "def convert_file(input_file, output_file):\n",
    "    ffmpeg_cmd = [\n",
    "        \"ffmpeg\", \n",
    "        \"-y\", \n",
    "        \"-i\", input_file, \n",
    "        output_file\n",
    "    ]\n",
    "    \n",
    "    try:\n",
    "        subprocess.run(ffmpeg_cmd, check=True)\n",
    "        print(\"Successfully converted!\")\n",
    "    except subprocess.CalledProcessError as e:\n",
    "        print(\"Conversion failed.\")  "
   ]
  },
  {
   "cell_type": "code",
   "execution_count": null,
   "id": "468dd55b-882f-4223-b106-278e60c381de",
   "metadata": {},
   "outputs": [],
   "source": [
    "# 入力ファイル (MP4)\n",
    "input_file = \"english_movie.mp4\"\n",
    "\n",
    "# 出力ファイル (MP3)\n",
    "output_file = \"english_audio.mp3\""
   ]
  },
  {
   "cell_type": "code",
   "execution_count": null,
   "id": "00965501-6f84-41f3-9241-b93268aa65c9",
   "metadata": {},
   "outputs": [],
   "source": [
    "# ファイルを変換\n",
    "convert_file(input_file, output_file)"
   ]
  },
  {
   "cell_type": "markdown",
   "id": "036323c3-5bdd-4f89-be4f-7454d92786dc",
   "metadata": {},
   "source": [
    "音声(MP3)からテキストを文字起こし"
   ]
  },
  {
   "cell_type": "code",
   "execution_count": null,
   "id": "791bc313-9cd6-4b7b-aa3a-b40afacdae84",
   "metadata": {},
   "outputs": [],
   "source": [
    "# ライブラリをインポート\n",
    "from faster_whisper import WhisperModel\n",
    "import pandas as pd\n",
    "from pprint import pprint\n",
    "from datetime import datetime, timedelta"
   ]
  },
  {
   "cell_type": "code",
   "execution_count": null,
   "id": "836ff7b8-8c5c-41e1-8a0e-fe0ccdd9223b",
   "metadata": {},
   "outputs": [],
   "source": [
    "# モデルを指定\n",
    "model_size = \"large-v3\""
   ]
  },
  {
   "cell_type": "code",
   "execution_count": null,
   "id": "692dab66-264c-45c2-8c5e-695396455eff",
   "metadata": {},
   "outputs": [],
   "source": [
    "# GPU・FP16で実行する場合\n",
    "model = WhisperModel(model_size, device=\"cuda\", compute_type=\"float16\")\n",
    "\n",
    "# GPU・INT8で実行する場合\n",
    "# model = WhisperModel(model_size, device=\"cuda\", compute_type=\"int8_float16\")\n",
    "\n",
    "# CPU・INT8で実行する場合\n",
    "# model = WhisperModel(model_size, device=\"cpu\", compute_type=\"int8\")"
   ]
  },
  {
   "cell_type": "code",
   "execution_count": null,
   "id": "0622dcf6-c245-4589-b8bf-4c5a1ae6cec6",
   "metadata": {},
   "outputs": [],
   "source": [
    "# 音声を文字起こし\n",
    "segments, info = model.transcribe(output_file, beam_size=5)"
   ]
  },
  {
   "cell_type": "code",
   "execution_count": null,
   "id": "b4c59c4a-1d0c-4a87-aee9-228906ff40a3",
   "metadata": {},
   "outputs": [],
   "source": [
    "# 検出された言語と言語の確率を確認\n",
    "print(\"Detected language '%s' with probability %f\" % (info.language, info.language_probability))"
   ]
  },
  {
   "cell_type": "code",
   "execution_count": null,
   "id": "5ea54f06-d53f-4172-b262-0908e83b6625",
   "metadata": {},
   "outputs": [],
   "source": [
    "# 開始時間、終了時間、テキストの情報を追加するリスト\n",
    "start_time = []\n",
    "end_time = []\n",
    "text = []"
   ]
  },
  {
   "cell_type": "code",
   "execution_count": null,
   "id": "37d6f8b3-4b30-4517-acaa-8a310dff48f5",
   "metadata": {},
   "outputs": [],
   "source": [
    "# 秒のリストを時間分秒のリストに変換する関数\n",
    "def sec_to_hms(seconds_list):\n",
    "    hms_list = []\n",
    "    for seconds in seconds_list:\n",
    "        # datetime.minからseconds秒後のdatetimeオブジェクトを作成\n",
    "        dt = datetime.min + timedelta(seconds=seconds)\n",
    "        # 時間分秒の文字列に変換\n",
    "        hms_str = dt.strftime(\"%H:%M:%S\")\n",
    "        hms_list.append(hms_str)\n",
    "    return hms_list\n",
    "\n",
    "# 開始時間を時間分秒に変換\n",
    "hms_list_of_start_time = sec_to_hms(start_time)\n",
    "\n",
    "# 終了時間を時間分秒に変換\n",
    "hms_list_of_end_time = sec_to_hms(end_time)\n",
    "\n",
    "# 結果を表示\n",
    "print(\"Start Time:\\n\", hms_list_of_start_time)\n",
    "print(\"End Time:\\n\", hms_list_of_end_time)"
   ]
  },
  {
   "cell_type": "code",
   "execution_count": null,
   "id": "07db4101-1f82-4ab3-8b1e-3317423de8a5",
   "metadata": {},
   "outputs": [],
   "source": [
    "# データフレームを作成\n",
    "df = pd.DataFrame(\n",
    "    {\n",
    "        \"start_time\": hms_list_of_start_time,\n",
    "        \"end_time\": hms_list_of_end_time,\n",
    "        \"text\": text\n",
    "    }\n",
    ")"
   ]
  },
  {
   "cell_type": "code",
   "execution_count": null,
   "id": "bd931f80-f139-4afe-9dd4-c1a14e1c7306",
   "metadata": {},
   "outputs": [],
   "source": [
    "# データフレームを確認\n",
    "display(df)"
   ]
  },
  {
   "cell_type": "code",
   "execution_count": null,
   "id": "d75e610d-8876-447a-bc72-cbff743698e9",
   "metadata": {},
   "outputs": [],
   "source": [
    "# データフレームをExcelにエクスポート\n",
    "df.to_excel(\"transcribed_data.xlsx\", index=False)"
   ]
  },
  {
   "cell_type": "code",
   "execution_count": null,
   "id": "71b93856-ff73-481b-9279-2fb19ea0cf20",
   "metadata": {},
   "outputs": [],
   "source": [
    "# textのカラムをリストに変換\n",
    "text_list = df[\"text\"].to_list()\n",
    "\n",
    "pprint(text_list)"
   ]
  },
  {
   "cell_type": "code",
   "execution_count": null,
   "id": "a487105a-506a-4cce-bb59-f4e834e082fe",
   "metadata": {},
   "outputs": [],
   "source": [
    "# 文字を結合\n",
    "combined_text = \"\".join(text_list).strip()\n",
    "\n",
    "pprint(combined_text)"
   ]
  },
  {
   "cell_type": "markdown",
   "id": "6dc1779e-2bef-4d67-849a-5ff0e1f61f0b",
   "metadata": {},
   "source": [
    "ChatGPT APIで英語から日本語に翻訳"
   ]
  },
  {
   "cell_type": "code",
   "execution_count": null,
   "id": "7681edad-9911-4a67-844f-a46bbc3c70d1",
   "metadata": {},
   "outputs": [],
   "source": [
    "# ライブラリをインポート\n",
    "from openai import OpenAI"
   ]
  },
  {
   "cell_type": "code",
   "execution_count": null,
   "id": "5734afb7-d287-4832-8622-76e223212fc4",
   "metadata": {},
   "outputs": [],
   "source": [
    "# APIキーを環境変数から取得\n",
    "api_key = os.getenv(\"OPEN_AI_API_KEY\")"
   ]
  },
  {
   "cell_type": "code",
   "execution_count": null,
   "id": "dd248a04-d0f8-43d0-8148-2e7860a1ecd8",
   "metadata": {},
   "outputs": [],
   "source": [
    "# APIキーを設定\n",
    "client = OpenAI(api_key=api_key)"
   ]
  },
  {
   "cell_type": "code",
   "execution_count": null,
   "id": "afb4f554-c63f-433e-9b92-5b19f9cb0457",
   "metadata": {},
   "outputs": [],
   "source": [
    "# 質問\n",
    "message = f\"以下を日本語にを翻訳して下さい。\\n{combined_text}\""
   ]
  },
  {
   "cell_type": "code",
   "execution_count": null,
   "id": "a077b1aa-4803-45b2-a236-f182d773d5d6",
   "metadata": {},
   "outputs": [],
   "source": [
    "# チャットコンプリーションを作成\n",
    "chat_completion = client.chat.completions.create(\n",
    "    model=\"gpt-4o-mini\", \n",
    "    messages=[\n",
    "        {\"role\": \"system\", \"content\": \"あなたは優秀なアシスタントです。\"}, \n",
    "        {\"role\": \"user\", \"content\": message}\n",
    "    ], \n",
    "    temperature=0.4\n",
    ")\n",
    "\n",
    "# 回答を変数に格納\n",
    "response = chat_completion.choices[0].message.content\n",
    "\n",
    "# 回答を表示\n",
    "print(response)"
   ]
  },
  {
   "cell_type": "code",
   "execution_count": null,
   "id": "40e849fd-d098-4823-ad1a-b78c390a0c3a",
   "metadata": {},
   "outputs": [],
   "source": [
    "# テキストファイル名\n",
    "translation_file = \"translation.txt\""
   ]
  },
  {
   "cell_type": "code",
   "execution_count": null,
   "id": "4422cdfe-b569-4592-b1a8-2163324a2bb7",
   "metadata": {},
   "outputs": [],
   "source": [
    "# 回答をテキストファイルに保存\n",
    "with open(translation_file, mode=\"w\") as f:\n",
    "    f.write(response)"
   ]
  },
  {
   "cell_type": "markdown",
   "id": "b9feaa93-286e-4958-a1b8-eedab9950856",
   "metadata": {},
   "source": [
    "Slackに翻訳したファイルをアップロード"
   ]
  },
  {
   "cell_type": "code",
   "execution_count": null,
   "id": "e735c509-98a7-465f-83a9-09801489ade1",
   "metadata": {},
   "outputs": [],
   "source": [
    "# ライブラリをインポート\n",
    "from slack_sdk import WebClient"
   ]
  },
  {
   "cell_type": "code",
   "execution_count": null,
   "id": "60b6b02d-e845-4f2d-a56e-fecc94e7c869",
   "metadata": {},
   "outputs": [],
   "source": [
    "# アクセストークンを環境変数から取得\n",
    "access_token = os.getenv(\"SLACK_ACCESS_TOEKN\")"
   ]
  },
  {
   "cell_type": "code",
   "execution_count": null,
   "id": "2c73dba9-e2cc-45de-aadf-9990bc433db8",
   "metadata": {},
   "outputs": [],
   "source": [
    "# WebClientを作成\n",
    "slack_client = WebClient(token=access_token)"
   ]
  },
  {
   "cell_type": "code",
   "execution_count": null,
   "id": "2d4c6ec0-7555-44da-8804-0251cab5a6d5",
   "metadata": {},
   "outputs": [],
   "source": [
    "# ファイルをアップロード (メッセージと一緒に)\n",
    "result = slack_client.files_upload_v2(\n",
    "    file=translation_file, # ファイル\n",
    "    channel=\"Slack Channel ID\", # チャンネルID\n",
    "    initial_comment=\"ファイルをアップロードします。\" # メッセージ\n",
    ")"
   ]
  },
  {
   "cell_type": "code",
   "execution_count": null,
   "id": "e4105849-9a15-4937-8c36-7dc3c4b58a0f",
   "metadata": {},
   "outputs": [],
   "source": [
    "# アップロードしたファイルのメタデータを確認\n",
    "pprint(result.get(\"file\"))"
   ]
  }
 ],
 "metadata": {
  "kernelspec": {
   "display_name": "Python 3 (ipykernel)",
   "language": "python",
   "name": "python3"
  },
  "language_info": {
   "codemirror_mode": {
    "name": "ipython",
    "version": 3
   },
   "file_extension": ".py",
   "mimetype": "text/x-python",
   "name": "python",
   "nbconvert_exporter": "python",
   "pygments_lexer": "ipython3",
   "version": "3.11.5"
  }
 },
 "nbformat": 4,
 "nbformat_minor": 5
}
